{
  "nbformat": 4,
  "nbformat_minor": 0,
  "metadata": {
    "colab": {
      "name": "headstailsfiltering.ipynb",
      "provenance": [],
      "collapsed_sections": []
    },
    "kernelspec": {
      "name": "python3",
      "display_name": "Python 3"
    },
    "language_info": {
      "name": "python"
    }
  },
  "cells": [
    {
      "cell_type": "code",
      "execution_count": null,
      "metadata": {
        "id": "f8Nc1f7V6EN5"
      },
      "outputs": [],
      "source": [
        "import numpy as np\n",
        "import pickle\n",
        "rec_train = np.load( 'rec_train.npy', allow_pickle=True)\n",
        "rec_test = np.load('rec_test.npy', allow_pickle=True)\n",
        "kg = np.load('kg.npy', allow_pickle=True)\n",
        "data_whole1=np.concatenate((rec_train,rec_test))\n",
        "data_whole=np.concatenate((data_whole1,kg))\n",
        "np.shape(data_whole)"
      ]
    },
    {
      "cell_type": "code",
      "source": [
        "heads_test={}\n",
        "tails_test={}\n",
        "for i , fact in enumerate(data_whole):\n",
        "  tailkey=tuple(fact[:2])\n",
        "  headkey=tuple(fact[1:])\n",
        "  if headkey in heads_test.keys():\n",
        "    heads_test[headkey].append(fact[0])\n",
        "  else:\n",
        "    heads_test[headkey]=[fact[0]]\n",
        "  if tailkey in tails_test.keys():\n",
        "    tails_test[tailkey].append(fact[2])\n",
        "  else:\n",
        "    tails_test[tailkey]=[fact[2]]"
      ],
      "metadata": {
        "id": "cXoKSkNa6PSG"
      },
      "execution_count": null,
      "outputs": []
    },
    {
      "cell_type": "code",
      "source": [
        "with open('heads_filtering.pkl', 'wb') as f:\n",
        "    pickle.dump(heads_test, f)\n",
        "with open('tails_filtering.pkl', 'wb') as f:\n",
        "    pickle.dump(tails_test, f)"
      ],
      "metadata": {
        "id": "nV5LS9_S6Rpz"
      },
      "execution_count": null,
      "outputs": []
    }
  ]
}