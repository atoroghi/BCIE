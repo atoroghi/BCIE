{
 "cells": [
  {
   "cell_type": "code",
   "execution_count": 1,
   "metadata": {},
   "outputs": [
    {
     "name": "stderr",
     "output_type": "stream",
     "text": [
      "/home/admin/.local/lib/python3.8/site-packages/tqdm/auto.py:22: TqdmWarning: IProgress not found. Please update jupyter and ipywidgets. See https://ipywidgets.readthedocs.io/en/stable/user_install.html\n",
      "  from .autonotebook import tqdm as notebook_tqdm\n"
     ]
    }
   ],
   "source": [
    "import os, sys, re, pickle, torch\n",
    "import numpy as np\n",
    "from numpy.random import default_rng\n",
    "\n",
    "import torch\n",
    "import numpy as np\n",
    "import pandas as pd\n",
    "import pickle\n",
    "from tqdm import tqdm\n",
    "import time\n",
    "import sys, os\n",
    "import pickle"
   ]
  },
  {
   "cell_type": "code",
   "execution_count": 7,
   "metadata": {},
   "outputs": [
    {
     "name": "stderr",
     "output_type": "stream",
     "text": [
      "/tmp/ipykernel_526261/2099356923.py:5: VisibleDeprecationWarning: Reading unicode strings without specifying the encoding argument is deprecated. Set the encoding, use None for the system default.\n",
      "  rec = np.genfromtxt(rec_path, delimiter='\\t', dtype=None)\n"
     ]
    }
   ],
   "source": [
    "kg_path = 'datasets/www_data/www_data/AmazonBook/kg/train.dat'\n",
    "rec_path = 'datasets/www_data/www_data/AmazonBook/rs/ratings.txt'\n",
    "\n",
    "kg = np.genfromtxt(kg_path, delimiter='\\t', dtype=np.int32)\n",
    "rec = np.genfromtxt(rec_path, delimiter='\\t', dtype=None)\n"
   ]
  },
  {
   "cell_type": "code",
   "execution_count": 57,
   "metadata": {},
   "outputs": [
    {
     "data": {
      "text/plain": [
       "\"b'A18J1IH6920OXC'\""
      ]
     },
     "execution_count": 57,
     "metadata": {},
     "output_type": "execute_result"
    }
   ],
   "source": [
    "str(rec[0][0])"
   ]
  },
  {
   "cell_type": "code",
   "execution_count": 81,
   "metadata": {},
   "outputs": [],
   "source": [
    "rec_users = []\n",
    "rec_items = []\n",
    "for i in range(rec.shape[0]):\n",
    "    if int(rec[i][2]) >= 4:\n",
    "        rec_users.append(re.search('(?<=\\')(.*?)(?=\\')', str(rec[i][0])).group(0))\n",
    "        rec_items.append(re.sub(\"^0+\", \"\", re.search('(?<=\\')(.*?)(?=\\')', str(rec[i][1])).group(0)))"
   ]
  },
  {
   "cell_type": "code",
   "execution_count": 50,
   "metadata": {},
   "outputs": [],
   "source": [
    "\n",
    "kg[:,1] += 1 # offset\n",
    "TOTAL_FB_IDS = np.max(kg) # total number of default kg pairs (# rel << # entities)"
   ]
  },
  {
   "cell_type": "code",
   "execution_count": 77,
   "metadata": {},
   "outputs": [],
   "source": [
    "\n",
    "item2kg_path = 'datasets/www_data/www_data/AmazonBook/rs/i2kg_map.tsv'\n",
    "emap_path = 'datasets/www_data/www_data/AmazonBook/rs/e_map.dat'\n",
    "ml2fb_map = {}\n",
    "with open(item2kg_path) as f:\n",
    "    for line in f:\n",
    "        ml_id = re.search('(.+?)\\t', line)\n",
    "        fb_http = re.search('\\t(.+?)\\n', line)\n",
    "        ml2fb_map.update({re.sub(\"^0+\", \"\", ml_id.group(1)) : fb_http.group(1)})\n"
   ]
  },
  {
   "cell_type": "code",
   "execution_count": 87,
   "metadata": {},
   "outputs": [],
   "source": [
    "# maps free base html links to free base id's (final format)\n",
    "id2html_map = {}\n",
    "fb2id_map = {}\n",
    "with open(emap_path) as f:\n",
    "    for kg_id, line in enumerate(f):\n",
    "        fb_http = re.search('\\t(.+?)\\n', line)\n",
    "        fb2id_map.update({fb_http.group(1) : kg_id})\n",
    "        id2html_map.update({kg_id : fb_http.group(1)})"
   ]
  },
  {
   "cell_type": "code",
   "execution_count": null,
   "metadata": {},
   "outputs": [],
   "source": [
    "rec_users_kept = []\n",
    "rec_items_converted = []\n",
    "# convert movielens id's to freebase id's\n",
    "i = 0\n",
    "j = 0\n",
    "while True:\n",
    "    if i == len(rec_items):\n",
    "        break\n",
    "    if rec_items[i] in ml2fb_map: \n",
    "        # get correct freebase id from data\n",
    "        fb_http = ml2fb_map[rec_items[i]]\n",
    "        fb_id = fb2id_map[fb_http]\n",
    "        rec_items_converted.append(fb_id)\n",
    "        rec_users_kept.append(rec_users[i])\n",
    "        i += 1\n",
    "\n",
    "    j += 1\n",
    "    print(\"1\",j)"
   ]
  },
  {
   "cell_type": "code",
   "execution_count": null,
   "metadata": {},
   "outputs": [],
   "source": []
  }
 ],
 "metadata": {
  "kernelspec": {
   "display_name": "Python 3.8.10 64-bit",
   "language": "python",
   "name": "python3"
  },
  "language_info": {
   "codemirror_mode": {
    "name": "ipython",
    "version": 3
   },
   "file_extension": ".py",
   "mimetype": "text/x-python",
   "name": "python",
   "nbconvert_exporter": "python",
   "pygments_lexer": "ipython3",
   "version": "3.8.10"
  },
  "orig_nbformat": 4,
  "vscode": {
   "interpreter": {
    "hash": "916dbcbb3f70747c44a77c7bcd40155683ae19c65e1c03b4aa3499c5328201f1"
   }
  }
 },
 "nbformat": 4,
 "nbformat_minor": 2
}
