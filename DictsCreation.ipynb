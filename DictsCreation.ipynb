{
  "nbformat": 4,
  "nbformat_minor": 0,
  "metadata": {
    "colab": {
      "name": "DictsCreation.ipynb",
      "provenance": [],
      "collapsed_sections": []
    },
    "kernelspec": {
      "name": "python3",
      "display_name": "Python 3"
    },
    "language_info": {
      "name": "python"
    }
  },
  "cells": [
    {
      "cell_type": "code",
      "execution_count": null,
      "metadata": {
        "id": "ZN7LZktlVamJ"
      },
      "outputs": [],
      "source": [
        "##Importing the data file from google drive\n",
        "\n",
        "from google.colab import drive\n",
        "drive.mount('/content/drive/')          # this will direct you to a link where you can get anmhkk authorization key\n",
        "import sys\n",
        "sys.path.append('/content/drive/My Drive/BK-KGE-main/datasets/ML_FB')\n",
        "##Changing the working directory\n",
        "\n",
        "%cd '/content/drive/My Drive/BK-KGE-main/datasets/ML_FB'\n"
      ]
    },
    {
      "cell_type": "code",
      "source": [
        "import numpy as np\n",
        "rec = np.load('rec.npy', allow_pickle=True)\n",
        "kg = np.load('kg.npy', allow_pickle=True)\n",
        "items = np.unique(rec[:,2])\n"
      ],
      "metadata": {
        "id": "m0kbuvDAVfyJ"
      },
      "execution_count": null,
      "outputs": []
    },
    {
      "cell_type": "code",
      "source": [
        "popularities={}\n",
        "pop_data=np.delete(kg,1,1)\n",
        "unique, counts = np.unique(pop_data, return_counts=True)\n",
        "# a dictionary containing the popularity of each object\n",
        "pop_counts=dict(zip(unique, counts))\n",
        "import pickle\n",
        "with open('pop_counts.pkl', 'wb') as f:\n",
        "    pickle.dump(pop_counts, f)"
      ],
      "metadata": {
        "id": "lg7a79pfVluN"
      },
      "execution_count": null,
      "outputs": []
    },
    {
      "cell_type": "code",
      "source": [
        "#making dictionary of facts about each item\n",
        "\n",
        "items_facts_head={}\n",
        "items_facts_tail={}\n",
        "for item in items:\n",
        "  items_facts_head[item]=kg[np.where(kg[:, 0] == item)][:,1:]\n",
        "  items_facts_tail[item]=kg[np.where(kg[:, 2] == item)][:,:-1]\n",
        "import pickle\n",
        "\n",
        "with open('items_facts_head.pkl', 'wb') as f:\n",
        "    pickle.dump(items_facts_head, f)\n",
        "with open('items_facts_tail.pkl', 'wb') as f:\n",
        "    pickle.dump(items_facts_tail, f)"
      ],
      "metadata": {
        "id": "ek5Xk-ebVqxX"
      },
      "execution_count": null,
      "outputs": []
    },
    {
      "cell_type": "code",
      "source": [
        "obj2items={}\n",
        "for obj in pop_counts.keys():\n",
        "  objkg=kg[np.where((kg[:, 0] == obj) | (kg[:, 2] == obj))]\n",
        "  objkg=np.delete(objkg,1,1)\n",
        "  mapped_items=np.intersect1d(items,objkg)\n",
        "  obj2items[obj]=mapped_items"
      ],
      "metadata": {
        "id": "WxFsm_PAVxSJ"
      },
      "execution_count": null,
      "outputs": []
    },
    {
      "cell_type": "code",
      "source": [
        "import pickle\n",
        "with open('obj2items.pkl', 'wb') as f:\n",
        "    pickle.dump(obj2items, f)"
      ],
      "metadata": {
        "id": "RQwaOd-PVzl3"
      },
      "execution_count": null,
      "outputs": []
    }
  ]
}