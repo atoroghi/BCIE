{
 "cells": [
  {
   "cell_type": "markdown",
   "metadata": {},
   "source": [
    "## LastFM - Freebase Processing\n",
    "#### Create Triplets"
   ]
  },
  {
   "cell_type": "code",
   "execution_count": 6,
   "metadata": {},
   "outputs": [],
   "source": [
    "import os, re\n",
    "import numpy as np\n",
    "\n",
    "# this is slow, use np.load() instead\n",
    "kg_path = 'datasets/www_data/www_data/LastFM/kg/train.dat'\n",
    "rec_path = 'datasets/www_data/www_data/LastFM/rs/ratings.txt'\n",
    "kg = np.genfromtxt(kg_path, delimiter='\\t', dtype=np.int32)\n",
    "rec = np.genfromtxt(rec_path, delimiter='\\t', dtype=np.int32)\n",
    "\n",
    "# mean listens is 11, 6 keeps 3/4 of reviews\n",
    "rec[:,2] = rec[:,2] >= 6 # binary ratings, 0 if < avg, 1 if > avg \n",
    "rec = rec[rec[:,2] == 1] # select only positive ratings\n",
    "rec[:,2] = 47 # set redundant col to relationship 47\n",
    "rec = rec[:, [0,2,1]] # <user, likes, item> format"
   ]
  },
  {
   "cell_type": "code",
   "execution_count": 5,
   "metadata": {},
   "outputs": [
    {
     "name": "stdout",
     "output_type": "stream",
     "text": [
      "(4464456, 4)\n",
      "(3475807, 3)\n"
     ]
    }
   ],
   "source": [
    "TOTAL_FB_IDS = np.max(kg) # total number of default kg pairs (# rel << # entities)\n",
    "\n",
    "# paths for converting data\n",
    "item2kg_path = 'datasets/www_data/www_data/Movielens/rs/i2kg_map.tsv'\n",
    "emap_path = 'datasets/www_data/www_data/Movielens/kg/e_map.dat'\n",
    "\n",
    "# maps lastfm id's to free base html links\n",
    "ml2fb_map = {}\n",
    "with open(item2kg_path) as f:\n",
    "    for line in f:\n",
    "        ml_id = re.search('(.+?)\\t', line)\n",
    "        fb_http = re.search('\\t(.+?)\\n', line)\n",
    "        \n",
    "        ml2fb_map.update({int(ml_id.group(1)) : fb_http.group(1)})\n",
    "\n",
    "# maps free base html links to free base id's (final format)\n",
    "fb2id_map = {}\n",
    "with open(emap_path) as f:\n",
    "    for kg_id, line in enumerate(f):\n",
    "        fb_http = re.search('\\t(.+?)\\n', line)\n",
    "        \n",
    "        fb2id_map.update({fb_http.group(1) : kg_id})\n",
    "\n",
    "# convert lastfm id's to freebase id's\n",
    "new_ids = 0\n",
    "for i in range(rec.shape[0]):\n",
    "    if rec[i,2] in ml2fb_map: \n",
    "        # get correct freebase id from data\n",
    "        fb_http = ml2fb_map[rec[i,2]]\n",
    "        fb_id = fb2id_map[fb_http]\n",
    "    else:\n",
    "        # create new freebase id\n",
    "        new_ids += 1\n",
    "        fb_id = TOTAL_FB_IDS + new_ids\n",
    "\n",
    "        # add information to maps (for repeat values) \n",
    "        ml2fb_map.update({rec[i,2] : '<http:dummy/{}'.format(new_ids)})\n",
    "        fb2id_map.update({'<http:dummy/{}'.format(new_ids) : fb_id})\n",
    "    rec[i,2] = fb_id\n",
    "\n",
    "# checkpoint: now 'likes' and songs/artists (idk) are in freebase id's\n",
    "# step #2: convert user id's into freebase id's\n",
    "NEW_MOVIE_IDS = new_ids\n",
    "umap_path = 'datasets/www_data/www_data/Movielens/rs/u_map.dat'\n",
    "\n",
    "# maps lastfm user id's to freebase id's\n",
    "userid2fbid_map = {}\n",
    "new_ids = 0\n",
    "with open(umap_path) as f:\n",
    "    for line in f:\n",
    "\n",
    "        ml_id = re.search('\\t(.+?)\\n', line)\n",
    "        if int(ml_id.group(1)) in rec[:,0]:\n",
    "            new_ids += 1\n",
    "            userid2fbid_map.update({int(ml_id.group(1)) : TOTAL_FB_IDS + NEW_MOVIE_IDS + new_ids})\n",
    "\n",
    "# convert movielens user id's into freebase id's\n",
    "for i in range(rec.shape[0]):\n",
    "    rec[i,0] = userid2fbid_map[rec[i,0]]\n"
   ]
  }
 ],
 "metadata": {
  "interpreter": {
   "hash": "e7370f93d1d0cde622a1f8e1c04877d8463912d04d973331ad4851f04de6915a"
  },
  "kernelspec": {
   "display_name": "Python 3.8.10 64-bit",
   "language": "python",
   "name": "python3"
  },
  "language_info": {
   "codemirror_mode": {
    "name": "ipython",
    "version": 3
   },
   "file_extension": ".py",
   "mimetype": "text/x-python",
   "name": "python",
   "nbconvert_exporter": "python",
   "pygments_lexer": "ipython3",
   "version": "3.8.10"
  },
  "orig_nbformat": 4
 },
 "nbformat": 4,
 "nbformat_minor": 2
}
